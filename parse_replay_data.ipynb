{
  "nbformat": 4,
  "nbformat_minor": 0,
  "metadata": {
    "colab": {
      "name": "parse_replay_data.ipynb",
      "provenance": [],
      "collapsed_sections": [],
      "authorship_tag": "ABX9TyOsgi37tusbhJdrs/dbPP4Y",
      "include_colab_link": true
    },
    "kernelspec": {
      "name": "python3",
      "display_name": "Python 3"
    }
  },
  "cells": [
    {
      "cell_type": "markdown",
      "metadata": {
        "id": "view-in-github",
        "colab_type": "text"
      },
      "source": [
        "<a href=\"https://colab.research.google.com/github/imkindaprogrammermyself/Camouflage-XML-Editor/blob/master/parse_replay_data.ipynb\" target=\"_parent\"><img src=\"https://colab.research.google.com/assets/colab-badge.svg\" alt=\"Open In Colab\"/></a>"
      ]
    },
    {
      "cell_type": "code",
      "metadata": {
        "id": "xFj64wRbiV6O",
        "colab_type": "code",
        "outputId": "4def58ee-baf4-47ff-9fc1-52736b34a0d9",
        "colab": {
          "base_uri": "https://localhost:8080/",
          "height": 238
        }
      },
      "source": [
        "import imageio\n",
        "import pickle\n",
        "from PIL import Image, ImageDraw, ImageOps\n",
        "import numpy as np\n",
        "\n",
        "image_map: Image.Image = Image.open(\"/content/minimap.png\", \"r\")\n",
        "image_water: Image.Image = Image.open(\"/content/minimap_water.png\", \"r\")\n",
        "image_water.paste(image_map, mask=image_map)\n",
        "image_water = ImageOps.flip(image_water)\n",
        "\n",
        "\n",
        "w, h = image_water.size\n",
        "s_w, s_h = w / 1400, h / 1400\n",
        "\n",
        "\n",
        "def get_scaled_xy(a, b):\n",
        "    a = float(a)\n",
        "    b = float(b)\n",
        "    return float(a) * s_w + w / 2, float(b) * s_h + h / 2\n",
        "\n",
        "\n",
        "writer = imageio.get_writer('/content/result.mp4', fps=500)\n",
        "with open(\"/content/timed_position.pkl\", \"rb\") as f:\n",
        "    positional_data = pickle.load(f)\n",
        "    positional_data = sorted(positional_data, key=lambda k: k[0])\n",
        "\n",
        "    grouped_pos_data = {}\n",
        "    last_position = {}\n",
        "\n",
        "    for t_pos in positional_data:\n",
        "        time, aid, teamId, name, isAbuser, isAlive, health, x, y = t_pos\n",
        "        time = round(time)\n",
        "        if time not in grouped_pos_data:\n",
        "            grouped_pos_data[time] = [(aid, teamId, name, isAbuser, isAlive, health, x, y)]\n",
        "        else:\n",
        "            grouped_pos_data[time].append((aid, teamId, name, isAbuser, isAlive, health, x, y))\n",
        "\n",
        "    for k, gpd in grouped_pos_data.items():\n",
        "        if k % 100 == 0:\n",
        "          print(f\"Processed... {k}\")\n",
        "        for pd in gpd:\n",
        "            aid, teamId, name, isAbuser, isAlive, health, x, y = pd\n",
        "            sx, sy = get_scaled_xy(x, y)\n",
        "            sx2, sy2 = sx - 2, sy - 2\n",
        "            if teamId == 0:\n",
        "                ImageDraw.Draw(image_water).ellipse((sx2, sy2, sx, sy), fill=\"red\")\n",
        "            else:\n",
        "                ImageDraw.Draw(image_water).ellipse((sx2, sy2, sx, sy), fill=\"blue\")\n",
        "            image_water_copy = ImageOps.flip(image_water)\n",
        "            image_water_copy = image_water_copy.resize((768, 768), resample=Image.NEAREST)\n",
        "            writer.append_data(np.asarray(image_water_copy))\n",
        "    writer.close()\n",
        "    print(\"Done.\")\n"
      ],
      "execution_count": 6,
      "outputs": [
        {
          "output_type": "stream",
          "text": [
            "Processed... 0\n",
            "Processed... 100\n",
            "Processed... 200\n",
            "Processed... 300\n",
            "Processed... 400\n",
            "Processed... 500\n",
            "Processed... 600\n",
            "Processed... 700\n",
            "Processed... 800\n",
            "Processed... 900\n",
            "Processed... 1000\n",
            "Processed... 1100\n",
            "Done.\n"
          ],
          "name": "stdout"
        }
      ]
    },
    {
      "cell_type": "code",
      "metadata": {
        "id": "UC5fIb7UmQGI",
        "colab_type": "code",
        "colab": {}
      },
      "source": [
        "!rm -rf /content/position"
      ],
      "execution_count": 0,
      "outputs": []
    },
    {
      "cell_type": "code",
      "metadata": {
        "id": "2FZ8aWDilaID",
        "colab_type": "code",
        "colab": {}
      },
      "source": [
        "!mkdir /content/position"
      ],
      "execution_count": 0,
      "outputs": []
    }
  ]
}